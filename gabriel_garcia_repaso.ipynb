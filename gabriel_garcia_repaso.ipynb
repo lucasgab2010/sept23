{
 "cells": [
  {
   "cell_type": "markdown",
   "metadata": {},
   "source": [
    "## 1. Crear una lista que contenga nombres de ciudades del mundo. Que contenga más de 5 elementos e imprimir por pantalla."
   ]
  },
  {
   "cell_type": "code",
   "execution_count": 22,
   "metadata": {},
   "outputs": [
    {
     "name": "stdout",
     "output_type": "stream",
     "text": [
      "Nueva York\n",
      "Londres\n",
      "París\n",
      "Tokio\n",
      "Sídney\n",
      "Roma\n",
      "Toronto\n"
     ]
    }
   ],
   "source": [
    "ciudades = [\"Nueva York\", \"Londres\", \"París\", \"Tokio\", \"Sídney\", \"Roma\", \"Toronto\"]\n",
    "for ciudad in ciudades:\n",
    "    print(ciudad)"
   ]
  },
  {
   "cell_type": "markdown",
   "metadata": {},
   "source": [
    "## 2. Imprimir por pantalla el segundo elemento de la lista"
   ]
  },
  {
   "cell_type": "code",
   "execution_count": 23,
   "metadata": {},
   "outputs": [
    {
     "name": "stdout",
     "output_type": "stream",
     "text": [
      "Londres\n"
     ]
    }
   ],
   "source": [
    "ciudades = [\"Nueva York\", \"Londres\", \"París\", \"Tokio\", \"Sídney\", \"Roma\", \"Toronto\"]\n",
    "print(ciudades[1])"
   ]
  },
  {
   "cell_type": "markdown",
   "metadata": {},
   "source": [
    "## 3. Imprimir por pantalla del segundo al cuarto elemento"
   ]
  },
  {
   "cell_type": "code",
   "execution_count": 24,
   "metadata": {},
   "outputs": [
    {
     "name": "stdout",
     "output_type": "stream",
     "text": [
      "Londres\n",
      "París\n",
      "Tokio\n"
     ]
    }
   ],
   "source": [
    "ciudades = [\"Nueva York\", \"Londres\", \"París\", \"Tokio\", \"Sídney\", \"Roma\", \"Toronto\"]\n",
    "for i in range(1, 4):\n",
    "    print(ciudades[i])\n"
   ]
  },
  {
   "cell_type": "markdown",
   "metadata": {},
   "source": [
    "## 4. Agregar una ciudad más a la lista que ya exista y otra que no ¿Arroja algún tipo de error?"
   ]
  },
  {
   "cell_type": "code",
   "execution_count": 26,
   "metadata": {},
   "outputs": [
    {
     "name": "stdout",
     "output_type": "stream",
     "text": [
      "['Nueva York', 'Londres', 'París', 'Tokio', 'Sídney', 'Roma', 'Toronto', 'Tokio', 'Berlín']\n"
     ]
    }
   ],
   "source": [
    "ciudades = [\"Nueva York\", \"Londres\", \"París\", \"Tokio\", \"Sídney\", \"Roma\", \"Toronto\"]\n",
    "ciudades.append(\"Tokio\")\n",
    "ciudades.append(\"Berlín\")\n",
    "print(ciudades)\n",
    "\n"
   ]
  },
  {
   "cell_type": "markdown",
   "metadata": {},
   "source": [
    "## 5. Agregar otra ciudad pero en la cuarta posición."
   ]
  },
  {
   "cell_type": "code",
   "execution_count": 29,
   "metadata": {},
   "outputs": [
    {
     "name": "stdout",
     "output_type": "stream",
     "text": [
      "['Nueva York', 'Londres', 'París', 'Tokio', 'Transilvania', 'Roma', 'Toronto']\n"
     ]
    }
   ],
   "source": [
    "ciudades = [\"Nueva York\", \"Londres\", \"París\", \"Tokio\", \"Sídney\", \"Roma\", \"Toronto\"]\n",
    "ciudades[4]= \"Transilvania\"\n",
    "print(ciudades)"
   ]
  },
  {
   "cell_type": "markdown",
   "metadata": {},
   "source": [
    "## 6. Concatenar otra lista a la ya creada."
   ]
  },
  {
   "cell_type": "code",
   "execution_count": 30,
   "metadata": {},
   "outputs": [
    {
     "name": "stdout",
     "output_type": "stream",
     "text": [
      "['Nueva York', 'Londres', 'París', 'Tokio', 'Transilvania', 'Roma', 'Toronto', 'buenos aires', 'lima']\n"
     ]
    }
   ],
   "source": [
    "capital = [\"buenos aires\", \"lima\"]\n",
    "temporal = (ciudades + capital) \n",
    "print(temporal)\n"
   ]
  },
  {
   "cell_type": "markdown",
   "metadata": {},
   "source": [
    "## 7. Crear una tupla que contenga los números del 1 al 20."
   ]
  },
  {
   "cell_type": "code",
   "execution_count": 33,
   "metadata": {},
   "outputs": [
    {
     "name": "stdout",
     "output_type": "stream",
     "text": [
      "(1, 2, 3, 4, 5, 6, 7, 8, 9, 10, 11, 12, 13, 14, 15, 16, 17, 18, 19, 20)\n"
     ]
    }
   ],
   "source": [
    "tupla = tuple(range(1,21))\n",
    "print(tupla)"
   ]
  },
  {
   "cell_type": "markdown",
   "metadata": {},
   "source": [
    "## 8. Imprimir desde el índice 10 al 15 de la tupla."
   ]
  },
  {
   "cell_type": "code",
   "execution_count": 38,
   "metadata": {},
   "outputs": [
    {
     "name": "stdout",
     "output_type": "stream",
     "text": [
      "11\n",
      "12\n",
      "13\n",
      "14\n",
      "15\n"
     ]
    }
   ],
   "source": [
    "for i in range(10,15):\n",
    "    print(tupla[i])"
   ]
  },
  {
   "cell_type": "markdown",
   "metadata": {},
   "source": [
    "## 9. Desempaquetar solo los primeros 3 elementos en 3 variables."
   ]
  },
  {
   "cell_type": "code",
   "execution_count": 42,
   "metadata": {},
   "outputs": [
    {
     "name": "stdout",
     "output_type": "stream",
     "text": [
      "1\n",
      "2\n",
      "3\n"
     ]
    }
   ],
   "source": [
    "\n",
    "numero1, numero2, numero3 = tupla[:3]\n",
    "print(numero1)\n",
    "print(numero2)\n",
    "print(numero3)\n",
    "\n"
   ]
  },
  {
   "cell_type": "markdown",
   "metadata": {},
   "source": [
    "## 10. Crear un diccionario utilizando la lista creada en el punto 1, asignando la clave “ciudad”. Agregar también otras claves, como puede ser “País” y “Continente”."
   ]
  },
  {
   "cell_type": "code",
   "execution_count": 60,
   "metadata": {},
   "outputs": [
    {
     "name": "stdout",
     "output_type": "stream",
     "text": [
      "{'pais': 'argentina', 'continente': 'america del sur'}\n",
      "{'pais': 'españa', 'continente': 'europa'}\n",
      "{'pais': 'china', 'continente': 'asia'}\n",
      "{'pais': 'australia', 'continente': 'oceania'}\n",
      "#########\n",
      "{'buenos aires': {'pais': 'argentina', 'continente': 'america del sur'}, 'cordoba': {'pais': 'españa', 'continente': 'europa'}, 'pekin': {'pais': 'china', 'continente': 'asia'}, 'sidney': {'pais': 'australia', 'continente': 'oceania'}}\n"
     ]
    }
   ],
   "source": [
    "dic = {\n",
    "    \n",
    "    \"buenos aires\" : {\n",
    "    \"pais\" : \"argentina\" , \n",
    "    \"continente\" : \"america del sur\"   \n",
    "    } ,\n",
    "    \"cordoba\" : {\n",
    "    \"pais\" : \"españa\" , \n",
    "    \"continente\" : \"europa\",   \n",
    "    } ,\n",
    "    \"pekin\" : {\n",
    "    \"pais\" : \"china\" , \n",
    "    \"continente\" : \"asia\"    \n",
    "    } ,\n",
    "    \"sidney\" : {\n",
    "    \"pais\" : \"australia\" , \n",
    "    \"continente\" : \"oceania\"    \n",
    "    }  \n",
    "    }\n",
    "for i in dic:\n",
    "    print(dic[i])\n",
    "print(\"#########\")\n",
    "print(dic)"
   ]
  },
  {
   "cell_type": "markdown",
   "metadata": {},
   "source": [
    "## 11.Imprimir las claves del diccionario"
   ]
  },
  {
   "cell_type": "code",
   "execution_count": 61,
   "metadata": {},
   "outputs": [
    {
     "name": "stdout",
     "output_type": "stream",
     "text": [
      "dict_keys(['buenos aires', 'cordoba', 'pekin', 'sidney'])\n"
     ]
    }
   ],
   "source": [
    "claves = dic.keys()\n",
    "print(claves)"
   ]
  },
  {
   "cell_type": "markdown",
   "metadata": {},
   "source": [
    "## 12.Imprimir las ciudades a través de sus claves."
   ]
  },
  {
   "cell_type": "code",
   "execution_count": 65,
   "metadata": {},
   "outputs": [
    {
     "name": "stdout",
     "output_type": "stream",
     "text": [
      "Clave: buenos aires, pais: argentina\n",
      "Clave: cordoba, pais: españa\n",
      "Clave: pekin, pais: china\n",
      "Clave: sidney, pais: australia\n"
     ]
    }
   ],
   "source": [
    "for clave in dic.keys():\n",
    "    pais = clave\n",
    "    print(f\"Clave: {clave}, pais: {dic[clave]['pais']}\")"
   ]
  },
  {
   "cell_type": "markdown",
   "metadata": {},
   "source": [
    "## 13.Crear una variable que contenga un elemento del conjunto de números enteros y luego imprimir por pantalla si es mayor o menor a cero."
   ]
  },
  {
   "cell_type": "code",
   "execution_count": 70,
   "metadata": {},
   "outputs": [
    {
     "name": "stdout",
     "output_type": "stream",
     "text": [
      "el numero -3 es menor que cero\n"
     ]
    }
   ],
   "source": [
    "num = int(input(\"ingrese un numero entero\"))\n",
    "if num > 0:\n",
    "    print(f\" el numero {num} es mayor a cero\")\n",
    "else:\n",
    "    print(f\"el numero {num} es menor que cero\")"
   ]
  },
  {
   "cell_type": "markdown",
   "metadata": {},
   "source": [
    "## 14.Crear dos variables y un condicional que informe si son del mismo tipo de dato."
   ]
  },
  {
   "cell_type": "code",
   "execution_count": 10,
   "metadata": {},
   "outputs": [
    {
     "name": "stdout",
     "output_type": "stream",
     "text": [
      "<class 'str'>\n",
      "son del mismo tipo , el valor de variable 1 : cielo y de variable 2 es : luna\n"
     ]
    }
   ],
   "source": [
    "var_1 = \"cielo\"\n",
    "var_2 = \"luna\"\n",
    "print(type(var_1))\n",
    "if (type(var_1) == type(var_2)):\n",
    "    print(f\"son del mismo tipo , el valor de variable 1 : {var_1} y de variable 2 es : {var_2}\")"
   ]
  },
  {
   "cell_type": "markdown",
   "metadata": {},
   "source": [
    "## 15.Para los valores enteros del 1 al 20, imprimir por pantalla si es para o impar."
   ]
  },
  {
   "cell_type": "code",
   "execution_count": 2,
   "metadata": {},
   "outputs": [
    {
     "name": "stdout",
     "output_type": "stream",
     "text": [
      "el numero es impar\n"
     ]
    }
   ],
   "source": [
    "numero = int(input(\"ingrese numero\"))\n",
    "if numero % 2 == 0:\n",
    "    print(\"el numero es par\")\n",
    "else:\n",
    "    print(\"el numero es impar\")"
   ]
  },
  {
   "cell_type": "markdown",
   "metadata": {},
   "source": [
    "## 16.En un ciclo For mostrar para los valores entre 0 y 5 el resultado de elevarlo a la potencia igual a 3."
   ]
  },
  {
   "cell_type": "code",
   "execution_count": 3,
   "metadata": {},
   "outputs": [
    {
     "name": "stdout",
     "output_type": "stream",
     "text": [
      "0\n",
      "1\n",
      "8\n",
      "27\n",
      "64\n"
     ]
    }
   ],
   "source": [
    "for i in range(0, 5):\n",
    "    print(i**3)"
   ]
  },
  {
   "cell_type": "markdown",
   "metadata": {},
   "source": [
    "## 17.Crear una variable que contenga un número entero y realizar un ciclo for para la misma cantidad de ciclos."
   ]
  },
  {
   "cell_type": "code",
   "execution_count": 7,
   "metadata": {},
   "outputs": [
    {
     "name": "stdout",
     "output_type": "stream",
     "text": [
      "1\n",
      "2\n",
      "3\n",
      "4\n"
     ]
    }
   ],
   "source": [
    "numero_entero = 4\n",
    "for i in range(1,numero_entero + 1):\n",
    "    print(i)"
   ]
  },
  {
   "cell_type": "markdown",
   "metadata": {},
   "source": [
    "## 18.Utilizar un ciclo while para realizar el factorial de un número guardado en una variable, sólo si la variable contiene un número mayor a 0."
   ]
  },
  {
   "cell_type": "code",
   "execution_count": 26,
   "metadata": {},
   "outputs": [
    {
     "name": "stdout",
     "output_type": "stream",
     "text": [
      "24\n"
     ]
    }
   ],
   "source": [
    "num = 4\n",
    "if num > 0:\n",
    "    fact = 1\n",
    "    while num > 0:\n",
    "        fact *= num \n",
    "        num -= 1\n",
    "    print(fact)\n",
    "else:\n",
    "    print(\"el numero debe ser mayor que cero\")"
   ]
  },
  {
   "cell_type": "markdown",
   "metadata": {},
   "source": [
    "## 19.Aplicando continue, armar un ciclo while que solo imprima los valores divisibles por 12, dentro del rango de números de 100 a 300."
   ]
  },
  {
   "cell_type": "code",
   "execution_count": 34,
   "metadata": {},
   "outputs": [
    {
     "name": "stdout",
     "output_type": "stream",
     "text": [
      "el numero  108  es divisible por 12\n",
      "el numero  120  es divisible por 12\n",
      "el numero  132  es divisible por 12\n",
      "el numero  144  es divisible por 12\n",
      "el numero  156  es divisible por 12\n",
      "el numero  168  es divisible por 12\n",
      "el numero  180  es divisible por 12\n",
      "el numero  192  es divisible por 12\n",
      "el numero  204  es divisible por 12\n",
      "el numero  216  es divisible por 12\n",
      "el numero  228  es divisible por 12\n",
      "el numero  240  es divisible por 12\n",
      "el numero  252  es divisible por 12\n",
      "el numero  264  es divisible por 12\n",
      "el numero  276  es divisible por 12\n",
      "el numero  288  es divisible por 12\n"
     ]
    }
   ],
   "source": [
    "num = 100\n",
    "while num < 300:\n",
    "    if  num % 12 == 0:\n",
    "        print(f\"el numero  {num}  es divisible por 12\")\n",
    "    num +=1"
   ]
  },
  {
   "cell_type": "markdown",
   "metadata": {},
   "source": [
    "## 20.Crear un ciclo while que encuentre dentro del rango de 100 a 300 el primer número divisible por 3 y además múltiplo de 6."
   ]
  },
  {
   "cell_type": "code",
   "execution_count": 4,
   "metadata": {},
   "outputs": [
    {
     "name": "stdout",
     "output_type": "stream",
     "text": [
      "el numero divisible por 3 y multiplo de 6 es 102\n"
     ]
    }
   ],
   "source": [
    "num = 100\n",
    "while num <= 300:\n",
    "    if (num % 3 == 0) and (num % 6 == 0):\n",
    "        print(f\"el numero divisible por 3 y multiplo de 6 es {num}\")\n",
    "        break\n",
    "    num += 1\n",
    "        "
   ]
  },
  {
   "cell_type": "markdown",
   "metadata": {},
   "source": [
    "## 21.A partir de la variable cadena ya dada, mostrar en que posiciones aparece la letra ‘n’ cadena = ‘Hola Mundo. Esto es una practica del lenguaje de programación Python’"
   ]
  },
  {
   "cell_type": "code",
   "execution_count": 10,
   "metadata": {},
   "outputs": [
    {
     "name": "stdout",
     "output_type": "stream",
     "text": [
      "la letra n aparece en la posicion 7\n",
      "la letra n aparece en la posicion 21\n",
      "la letra n aparece en la posicion 39\n",
      "la letra n aparece en la posicion 60\n",
      "la letra n aparece en la posicion 67\n"
     ]
    }
   ],
   "source": [
    "cadena = list(\"Hola Mundo. Esto es una practica del lenguaje de programación Python\")\n",
    "for i in range(len(cadena)):\n",
    "    if cadena[i] == \"n\":\n",
    "        print(f\"la letra n aparece en la posicion {i}\")"
   ]
  },
  {
   "cell_type": "markdown",
   "metadata": {},
   "source": [
    "## 22. Convertir en una lista la variable cadena del punto anterior y luego recorrerla con un iterador."
   ]
  },
  {
   "cell_type": "code",
   "execution_count": 3,
   "metadata": {},
   "outputs": [
    {
     "name": "stdout",
     "output_type": "stream",
     "text": [
      "H\n",
      "o\n",
      "l\n",
      "a\n",
      " \n",
      "M\n",
      "u\n",
      "n\n",
      "d\n",
      "o\n",
      ".\n",
      " \n",
      "E\n",
      "s\n",
      "t\n",
      "o\n",
      " \n",
      "e\n",
      "s\n",
      " \n",
      "u\n",
      "n\n",
      "a\n",
      " \n",
      "p\n",
      "r\n",
      "a\n",
      "c\n",
      "t\n",
      "i\n",
      "c\n",
      "a\n",
      " \n",
      "d\n",
      "e\n",
      "l\n",
      " \n",
      "l\n",
      "e\n",
      "n\n",
      "g\n",
      "u\n",
      "a\n",
      "j\n",
      "e\n",
      " \n",
      "d\n",
      "e\n",
      " \n",
      "p\n",
      "r\n",
      "o\n",
      "g\n",
      "r\n",
      "a\n",
      "m\n",
      "a\n",
      "c\n",
      "i\n",
      "ó\n",
      "n\n",
      " \n",
      "P\n",
      "y\n",
      "t\n",
      "h\n",
      "o\n",
      "n\n",
      "['H', 'o', 'l', 'a', ' ', 'M', 'u', 'n', 'd', 'o', '.', ' ', 'E', 's', 't', 'o', ' ', 'e', 's', ' ', 'u', 'n', 'a', ' ', 'p', 'r', 'a', 'c', 't', 'i', 'c', 'a', ' ', 'd', 'e', 'l', ' ', 'l', 'e', 'n', 'g', 'u', 'a', 'j', 'e', ' ', 'd', 'e', ' ', 'p', 'r', 'o', 'g', 'r', 'a', 'm', 'a', 'c', 'i', 'ó', 'n', ' ', 'P', 'y', 't', 'h', 'o', 'n']\n"
     ]
    }
   ],
   "source": [
    "cadena = list(\"Hola Mundo. Esto es una practica del lenguaje de programación Python\")\n",
    "lista_as = list(cadena)\n",
    "for i in lista_as:\n",
    "    print(i)\n",
    "print(cadena)"
   ]
  }
 ],
 "metadata": {
  "kernelspec": {
   "display_name": "Python 3",
   "language": "python",
   "name": "python3"
  },
  "language_info": {
   "codemirror_mode": {
    "name": "ipython",
    "version": 3
   },
   "file_extension": ".py",
   "mimetype": "text/x-python",
   "name": "python",
   "nbconvert_exporter": "python",
   "pygments_lexer": "ipython3",
   "version": "3.11.3"
  },
  "orig_nbformat": 4
 },
 "nbformat": 4,
 "nbformat_minor": 2
}
